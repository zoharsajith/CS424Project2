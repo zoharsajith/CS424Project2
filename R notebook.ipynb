{
 "cells": [
  {
   "cell_type": "code",
   "execution_count": null,
   "metadata": {
    "scrolled": true
   },
   "outputs": [
    {
     "name": "stderr",
     "output_type": "stream",
     "text": [
      "Warning message:\n",
      "\"package 'leaflet' was built under R version 3.6.2\"Warning message:\n",
      "\"package 'stringr' was built under R version 3.6.2\""
     ]
    }
   ],
   "source": [
    "#Read in the data and clean it up\n",
    "library(leaflet)\n",
    "library(stringr)\n",
    "options(repr.matrix.max.cols=50, repr.matrix.max.rows=100)\n",
    "\n",
    "at <- read.table(\"AtlanticHurrData.txt\", fill = TRUE)\n",
    "pa <- read.table(\"pacificHurrData.txt\", fill = TRUE, stringsAsFactors=FALSE)\n",
    "\n",
    "\n",
    "\n",
    "names(at)[2] = \"Names\"\n",
    "names(pa)[2] = \"Names\"\n",
    "names(at)[3] = \"Entries\"\n",
    "names(pa)[3] = \"Entries\"\n",
    "names(at)[4] = \"Date\"\n",
    "names(pa)[4] = \"Date\"\n",
    "names(at)[5] = \"Time\"\n",
    "names(pa)[5] = \"Time\"\n",
    "names(at)[6] = \"Record\"\n",
    "names(pa)[6] = \"Record\"\n",
    "names(at)[7] = \"Status\"\n",
    "names(pa)[7] = \"Status\"\n",
    "names(at)[8] = \"Lat\"\n",
    "names(pa)[8] = \"Lat\"\n",
    "names(at)[9] = \"Lon\"\n",
    "names(pa)[9] = \"Lon\"\n",
    "names(at)[10] = \"MaxWind\"\n",
    "names(pa)[10] = \"MaxWind\"\n",
    "names(at)[11] = \"MinPres\"\n",
    "names(pa)[11] = \"MinPres\"\n",
    "\n",
    "at$Date <- as.POSIXct(x=at$Date, format = \"%Y%m%d\")\n",
    "at$Time <- as.POSIXct(x=at$Time, format = \"%H%M\")\n",
    "at$Record <- as.character(at$Record)\n",
    "\n",
    "\n",
    "\n",
    "\n",
    "\n",
    "at$Lat <- stringr::str_replace(at$Lat,\"N\", \"\")\n",
    "at$Lat <- stringr::str_replace(at$Lat,\"S\", \"\")\n",
    "at$Lon <- stringr::str_replace(at$Lon,\"W\", \"\")\n",
    "at$Lon <- stringr::str_replace(at$Lon,\"E\", \"\")\n",
    "\n",
    "at\n"
   ]
  },
  {
   "cell_type": "code",
   "execution_count": 14,
   "metadata": {},
   "outputs": [
    {
     "data": {
      "text/html": [
       "<table>\n",
       "<thead><tr><th></th><th scope=col>Var1</th><th scope=col>Freq</th></tr></thead>\n",
       "<tbody>\n",
       "\t<tr><th scope=row>384</th><td>AL031899,</td><td>133      </td></tr>\n",
       "\t<tr><th scope=row>1626</th><td>AL141971,</td><td>118      </td></tr>\n",
       "\t<tr><th scope=row>1819</th><td>AL201969,</td><td> 99      </td></tr>\n",
       "\t<tr><th scope=row>1656</th><td>AL142012,</td><td> 96      </td></tr>\n",
       "\t<tr><th scope=row>577</th><td>AL041926,</td><td> 95      </td></tr>\n",
       "\t<tr><th scope=row>607</th><td>AL041957,</td><td> 95      </td></tr>\n",
       "\t<tr><th scope=row>1302</th><td>AL092004,</td><td> 94      </td></tr>\n",
       "\t<tr><th scope=row>773</th><td>AL051964,</td><td> 92      </td></tr>\n",
       "\t<tr><th scope=row>1541</th><td>AL122002,</td><td> 90      </td></tr>\n",
       "\t<tr><th scope=row>1610</th><td>AL132018,</td><td> 89      </td></tr>\n",
       "</tbody>\n",
       "</table>\n"
      ],
      "text/latex": [
       "\\begin{tabular}{r|ll}\n",
       "  & Var1 & Freq\\\\\n",
       "\\hline\n",
       "\t384 & AL031899, & 133      \\\\\n",
       "\t1626 & AL141971, & 118      \\\\\n",
       "\t1819 & AL201969, &  99      \\\\\n",
       "\t1656 & AL142012, &  96      \\\\\n",
       "\t577 & AL041926, &  95      \\\\\n",
       "\t607 & AL041957, &  95      \\\\\n",
       "\t1302 & AL092004, &  94      \\\\\n",
       "\t773 & AL051964, &  92      \\\\\n",
       "\t1541 & AL122002, &  90      \\\\\n",
       "\t1610 & AL132018, &  89      \\\\\n",
       "\\end{tabular}\n"
      ],
      "text/markdown": [
       "\n",
       "| <!--/--> | Var1 | Freq |\n",
       "|---|---|---|\n",
       "| 384 | AL031899, | 133       |\n",
       "| 1626 | AL141971, | 118       |\n",
       "| 1819 | AL201969, |  99       |\n",
       "| 1656 | AL142012, |  96       |\n",
       "| 577 | AL041926, |  95       |\n",
       "| 607 | AL041957, |  95       |\n",
       "| 1302 | AL092004, |  94       |\n",
       "| 773 | AL051964, |  92       |\n",
       "| 1541 | AL122002, |  90       |\n",
       "| 1610 | AL132018, |  89       |\n",
       "\n"
      ],
      "text/plain": [
       "     Var1      Freq\n",
       "384  AL031899, 133 \n",
       "1626 AL141971, 118 \n",
       "1819 AL201969,  99 \n",
       "1656 AL142012,  96 \n",
       "577  AL041926,  95 \n",
       "607  AL041957,  95 \n",
       "1302 AL092004,  94 \n",
       "773  AL051964,  92 \n",
       "1541 AL122002,  90 \n",
       "1610 AL132018,  89 "
      ]
     },
     "metadata": {},
     "output_type": "display_data"
    },
    {
     "data": {
      "image/png": "[encoded data removed]",
      "text/plain": [
       "plot without title"
      ]
     },
     "metadata": {},
     "output_type": "display_data"
    }
   ],
   "source": [
    "library(plyr)\n",
    "library(ggplot2)\n",
    "\n",
    "\n",
    "w = table(at$V1)\n",
    "\n",
    "t = as.data.frame(w)\n",
    "\n",
    "newdata <- head(t[order(-t$Freq),], n=10)\n",
    "newdata\n",
    "\n",
    "m <- ggplot(data= newdata, aes(x=Var1, y=Freq)) + \n",
    "    geom_bar(stat=\"identity\", width=.5, color=\"black\", fill=\"white\") + \n",
    "    ggtitle(\"Top 10 Hurricanes by Frequency\") +\n",
    "    labs(x = \"Hurricane ID\", y = \"# Of times Spotted\") +\n",
    "    geom_text(aes(label = Freq), position=position_dodge(width=.9), vjust=-.25)\n",
    "m\n"
   ]
  },
  {
   "cell_type": "code",
   "execution_count": null,
   "metadata": {},
   "outputs": [],
   "source": []
  }
 ],
 "metadata": {
  "kernelspec": {
   "display_name": "R",
   "language": "R",
   "name": "ir"
  },
  "language_info": {
   "codemirror_mode": "r",
   "file_extension": ".r",
   "mimetype": "text/x-r-source",
   "name": "R",
   "pygments_lexer": "r",
   "version": "3.6.1"
  }
 },
 "nbformat": 4,
 "nbformat_minor": 2
}

{
 "cells": [
  {
   "cell_type": "code",
   "execution_count": 31,
   "metadata": {},
   "outputs": [],
   "source": [
    "#Format the atlantic data\n",
    "with open(\"Atlantic.txt\", 'r') as file:\n",
    "    rez = open(\"AtlanticHurrData.txt\", \"w\")\n",
    "    currentHeader = \"\"\n",
    "    for line in file:\n",
    "        if(len(line.split(',')) < 5): \n",
    "            currentHeader = line.rstrip()\n",
    "        else:\n",
    "            rez.write(currentHeader + \" \" + line)"
   ]
  },
  {
   "cell_type": "code",
   "execution_count": 30,
   "metadata": {},
   "outputs": [],
   "source": [
    "#Format the pacific data\n",
    "with open(\"Northeast-and-North-Central-Pacific.txt\", \"r\") as file:\n",
    "    rez = open(\"pacificHurrData.txt\", \"w\")\n",
    "    currentHeader = \"\"\n",
    "    for line in file:\n",
    "        if(len(line.split(',')) < 5):\n",
    "            currentHeader = line.strip()\n",
    "        else:\n",
    "            rez.write(currentHeader + \" \" + line)"
   ]
  },
  {
   "cell_type": "code",
   "execution_count": null,
   "metadata": {},
   "outputs": [],
   "source": []
  }
 ],
 "metadata": {
  "kernelspec": {
   "display_name": "Python 3",
   "language": "python",
   "name": "python3"
  },
  "language_info": {
   "codemirror_mode": {
    "name": "ipython",
    "version": 3
   },
   "file_extension": ".py",
   "mimetype": "text/x-python",
   "name": "python",
   "nbconvert_exporter": "python",
   "pygments_lexer": "ipython3",
   "version": "3.7.6"
  }
 },
 "nbformat": 4,
 "nbformat_minor": 2
}
